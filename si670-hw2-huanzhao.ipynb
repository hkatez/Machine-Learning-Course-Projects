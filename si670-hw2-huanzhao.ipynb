{
 "cells": [
  {
   "cell_type": "markdown",
   "metadata": {},
   "source": [
    "Name: Huan Zhao\n",
    "Uniquename: huanzhao"
   ]
  },
  {
   "cell_type": "markdown",
   "metadata": {
    "colab_type": "text",
    "id": "OWTe9VS3_b11"
   },
   "source": [
    "## SI 670 Applied Machine Learning, Week 2:  Basic supervised learning concepts (Due 09/26 11:59pm)\n",
    "\n",
    "For this assignment, you will be exercising on questions related to linear regression, polynomial feature expansion, underfitting/overfitting, and cross-validation.\n",
    "\n",
    "Each question is worth 20 points, for a total of 80 points. Correct answers and code receive full credit, but partial credit will be awarded if you have the right idea even if your final answers aren't quite right.\n",
    "\n",
    "Submit your completed notebook file to the Canvas site - IMPORTANT: please name your submitted file si670-hw1-youruniqname.ipynb and be sure to put your name at the top of your notebook file.\n",
    "\n",
    "As a reminder, the notebook code you submit must be your own work. Feel free to discuss general approaches to the homework with classmates: if you end up forming more of a team discussion on multiple questions, please include the names of the people you worked with at the top of your notebook file."
   ]
  },
  {
   "cell_type": "markdown",
   "metadata": {
    "colab_type": "text",
    "id": "-_pUE4abw2eQ"
   },
   "source": [
    "### Preliminary\n",
    "First, run the following block to set up the variables needed for later sections."
   ]
  },
  {
   "cell_type": "code",
   "execution_count": 1,
   "metadata": {},
   "outputs": [
    {
     "data": {
      "image/png": "[encoded data removed]",
      "text/plain": [
       "<Figure size 432x288 with 1 Axes>"
      ]
     },
     "metadata": {
      "needs_background": "light"
     },
     "output_type": "display_data"
    }
   ],
   "source": [
    "import numpy as np\n",
    "import pandas as pd\n",
    "from sklearn.model_selection import train_test_split\n",
    "\n",
    "\n",
    "np.random.seed(0)\n",
    "n = 30\n",
    "x = np.linspace(0, 10, n) + np.random.randn(n) / 5\n",
    "y = np.sin(x) + x / 4 + np.random.randn(n) / 3\n",
    "\n",
    "\n",
    "X_train, X_test, y_train, y_test = train_test_split(x, y, random_state=0)\n",
    "\n",
    "# You can use this function to help you visualize the dataset by\n",
    "# plotting a scatterplot of the data points\n",
    "# in the training and test sets.\n",
    "def part1_scatter():\n",
    "    import matplotlib.pyplot as plt\n",
    "    %matplotlib inline\n",
    "    plt.figure()\n",
    "    plt.scatter(X_train, y_train, label='training data')\n",
    "    plt.scatter(X_test, y_test, label='test data')\n",
    "    plt.legend(loc=4);\n",
    "    \n",
    "    \n",
    "part1_scatter()"
   ]
  },
  {
   "cell_type": "code",
   "execution_count": 2,
   "metadata": {},
   "outputs": [
    {
     "data": {
      "text/plain": [
       "array([ 5.82103731,  7.75909414,  1.52868236,  5.81605719,  2.73797692,\n",
       "        4.91635885,  7.78260148,  6.38595376,  0.42485903, 10.29387175,\n",
       "        2.2589832 ,  1.75282194,  6.26951009,  6.38090499,  3.18556798,\n",
       "        2.38352166,  8.32981652,  1.4826614 ,  0.35281047,  7.37210303,\n",
       "        5.23914866,  4.29013858])"
      ]
     },
     "execution_count": 2,
     "metadata": {},
     "output_type": "execute_result"
    }
   ],
   "source": [
    "X_train"
   ]
  },
  {
   "cell_type": "markdown",
   "metadata": {
    "colab_type": "text",
    "id": "itE2L8t4w2ee"
   },
   "source": [
    "### Question 1 (20 points)\n",
    "\n",
    "Write a function that fits a polynomial LinearRegression model on the *training data* `X_train` for degrees 1, 3, 6, and 9. (Use PolynomialFeatures in sklearn.preprocessing to create the polynomial features and then fit a linear regression model) For each model, find 100 predicted values over the interval x = 0 to 10 (e.g. `np.linspace(0,10,100)`) and store this in a numpy array. The first row of this array should correspond to the output from the model trained on degree 1, the second row degree 3, the third row degree 6, and the fourth row degree 9.\n",
    "\n",
    "<img src=\"si670f18_assn2_q1.png\" style=\"width: 200px;\"/>\n",
    "\n",
    "The figure above shows the fitted models plotted on top of the original data (using `plot_one()`).\n",
    "\n",
    "<br>\n",
    "*This function should return a numpy array with shape `(4, 100)`*"
   ]
  },
  {
   "cell_type": "code",
   "execution_count": 4,
   "metadata": {},
   "outputs": [
    {
     "data": {
      "text/plain": [
       "array([[ 0.49947299,  0.51663261,  0.53379223,  0.55095185,  0.56811148,\n",
       "         0.5852711 ,  0.60243072,  0.61959034,  0.63674996,  0.65390958,\n",
       "         0.6710692 ,  0.68822883,  0.70538845,  0.72254807,  0.73970769,\n",
       "         0.75686731,  0.77402693,  0.79118655,  0.80834617,  0.8255058 ,\n",
       "         0.84266542,  0.85982504,  0.87698466,  0.89414428,  0.9113039 ,\n",
       "         0.92846352,  0.94562315,  0.96278277,  0.97994239,  0.99710201,\n",
       "         1.01426163,  1.03142125,  1.04858087,  1.06574049,  1.08290012,\n",
       "         1.10005974,  1.11721936,  1.13437898,  1.1515386 ,  1.16869822,\n",
       "         1.18585784,  1.20301747,  1.22017709,  1.23733671,  1.25449633,\n",
       "         1.27165595,  1.28881557,  1.30597519,  1.32313482,  1.34029444,\n",
       "         1.35745406,  1.37461368,  1.3917733 ,  1.40893292,  1.42609254,\n",
       "         1.44325216,  1.46041179,  1.47757141,  1.49473103,  1.51189065,\n",
       "         1.52905027,  1.54620989,  1.56336951,  1.58052914,  1.59768876,\n",
       "         1.61484838,  1.632008  ,  1.64916762,  1.66632724,  1.68348686,\n",
       "         1.70064648,  1.71780611,  1.73496573,  1.75212535,  1.76928497,\n",
       "         1.78644459,  1.80360421,  1.82076383,  1.83792346,  1.85508308,\n",
       "         1.8722427 ,  1.88940232,  1.90656194,  1.92372156,  1.94088118,\n",
       "         1.9580408 ,  1.97520043,  1.99236005,  2.00951967,  2.02667929,\n",
       "         2.04383891,  2.06099853,  2.07815815,  2.09531778,  2.1124774 ,\n",
       "         2.12963702,  2.14679664,  2.16395626,  2.18111588,  2.1982755 ],\n",
       "       [ 1.51170901,  1.4413091 ,  1.37428932,  1.31059585,  1.25017485,\n",
       "         1.19297248,  1.13893491,  1.08800829,  1.0401388 ,  0.99527259,\n",
       "         0.95335584,  0.9143347 ,  0.87815535,  0.84476393,  0.81410663,\n",
       "         0.7861296 ,  0.760779  ,  0.73800101,  0.71774178,  0.69994748,\n",
       "         0.68456427,  0.67153832,  0.66081579,  0.65234284,  0.64606565,\n",
       "         0.64193037,  0.63988316,  0.6398702 ,  0.64183764,  0.64573165,\n",
       "         0.6514984 ,  0.65908405,  0.66843475,  0.67949669,  0.69221601,\n",
       "         0.70653889,  0.72241148,  0.73977996,  0.75859049,  0.77878923,\n",
       "         0.80032234,  0.82313599,  0.84717635,  0.87238957,  0.89872182,\n",
       "         0.92611927,  0.95452808,  0.98389441,  1.01416443,  1.0452843 ,\n",
       "         1.07720019,  1.10985826,  1.14320467,  1.17718559,  1.21174719,\n",
       "         1.24683562,  1.28239705,  1.31837764,  1.35472357,  1.39138099,\n",
       "         1.42829606,  1.46541496,  1.50268384,  1.54004887,  1.57745621,\n",
       "         1.61485203,  1.6521825 ,  1.68939377,  1.72643201,  1.76324338,\n",
       "         1.79977405,  1.83597019,  1.87177795,  1.9071435 ,  1.942013  ,\n",
       "         1.97633263,  2.01004853,  2.04310689,  2.07545385,  2.10703559,\n",
       "         2.13779827,  2.16768805,  2.1966511 ,  2.22463359,  2.25158166,\n",
       "         2.2774415 ,  2.30215926,  2.32568111,  2.34795321,  2.36892173,\n",
       "         2.38853283,  2.40673267,  2.42346742,  2.43868324,  2.4523263 ,\n",
       "         2.46434276,  2.47467878,  2.48328054,  2.49009419,  2.49506589],\n",
       "       [ 0.76559896,  0.64347011,  0.56881935,  0.53395569,  0.53187029,\n",
       "         0.55620316,  0.60121069,  0.66173379,  0.73316679,  0.81142705,\n",
       "         0.89292527,  0.97453654,  1.05357206,  1.12775162,  1.19517674,\n",
       "         1.25430458,  1.30392252,  1.34312347,  1.37128188,  1.3880305 ,\n",
       "         1.3932378 ,  1.38698614,  1.36955063,  1.34137872,  1.30307049,\n",
       "         1.2553597 ,  1.19909543,  1.13522459,  1.06477504,  0.98883944,\n",
       "         0.90855982,  0.8251129 ,  0.73969605,  0.65351401,  0.56776633,\n",
       "         0.48363548,  0.40227574,  0.32480271,  0.2522836 ,  0.18572826,\n",
       "         0.12608081,  0.07421212,  0.03091287, -0.00311255, -0.02725154,\n",
       "        -0.04098799, -0.04390634, -0.03569486, -0.01614824,  0.01483046,\n",
       "         0.05722873,  0.11092406,  0.17568425,  0.25116837,  0.33692839,\n",
       "         0.43241165,  0.53696389,  0.6498331 ,  0.77017404,  0.89705349,\n",
       "         1.0294562 ,  1.16629155,  1.30640093,  1.44856585,  1.59151672,\n",
       "         1.73394237,  1.87450032,  2.01182766,  2.14455274,  2.27130757,\n",
       "         2.39074081,  2.50153167,  2.60240435,  2.69214327,  2.76960901,\n",
       "         2.83375495,  2.88364465,  2.91846988,  2.93756942,  2.94044859,\n",
       "         2.92679937,  2.89652144,  2.84974371,  2.78684673,  2.7084857 ,\n",
       "         2.61561429,  2.50950911,  2.39179488,  2.26447036,  2.129935  ,\n",
       "         1.99101621,  1.85099748,  1.71364707,  1.58324757,  1.46462599,\n",
       "         1.36318472,  1.28493315,  1.23651994,  1.2252661 ,  1.25919873],\n",
       "       [ 1.85728149,  1.42281312,  1.05006721,  0.74658316,  0.51502007,\n",
       "         0.35419476,  0.25998688,  0.22612192,  0.24484274,  0.30747937,\n",
       "         0.40492657,  0.52803789,  0.66794471,  0.81630802,  0.96551051,\n",
       "         1.10879574,  1.24036099,  1.35540991,  1.45017049,  1.52188369,\n",
       "         1.5687675 ,  1.58996106,  1.58545267,  1.55599565,  1.5030154 ,\n",
       "         1.42851062,  1.33495155,  1.22517766,  1.10229682,  0.96958801,\n",
       "         0.83040899,  0.68811038,  0.54595725,  0.40705902,  0.27430844,\n",
       "         0.15033003,  0.03743822, -0.06239457, -0.14756019, -0.21682741,\n",
       "        -0.26934547, -0.30463893, -0.3225944 , -0.32344   , -0.30771824,\n",
       "        -0.27625314, -0.23011267, -0.17056739, -0.09904633, -0.01709118,\n",
       "         0.07369017,  0.17166973,  0.275244  ,  0.38287618,  0.49313483,\n",
       "         0.60472832,  0.71653398,  0.82762128,  0.93726834,  1.04497122,\n",
       "         1.15044539,  1.25361929,  1.35461946,  1.45374753,  1.55144892,\n",
       "         1.64827375,  1.74483039,  1.84173228,  1.93953913,  2.03869343,\n",
       "         2.13945389,  2.24182732,  2.34550092,  2.44977719,  2.55351402,\n",
       "         2.65507268,  2.75227688,  2.84238647,  2.92208938,  2.98751621,\n",
       "         3.03428187,  3.05755922,  3.05219012,  3.01283954,  2.93419892,\n",
       "         2.81124541,  2.63956402,  2.4157402 ,  2.13783078,  1.80592183,\n",
       "         1.42278238,  0.99462343,  0.53197236,  0.05067319, -0.42697613,\n",
       "        -0.87093775, -1.24198713, -1.49009241, -1.55260665, -1.3522589 ]])"
      ]
     },
     "execution_count": 4,
     "metadata": {},
     "output_type": "execute_result"
    }
   ],
   "source": [
    "def answer_one():\n",
    "    from sklearn.linear_model import LinearRegression\n",
    "    from sklearn.preprocessing import PolynomialFeatures\n",
    "   \n",
    "    # create the polynomial features\n",
    "    result = np.zeros((4, 100))\n",
    "    poly_degree = [1, 3, 6, 9] \n",
    "    for i, degree in enumerate(poly_degree):\n",
    "        poly = PolynomialFeatures(degree = degree)\n",
    "        X_poly = poly.fit_transform(X_train.reshape(len(X_train),1))\n",
    "        \n",
    "        # fit the model \n",
    "        linreg = LinearRegression().fit(X_poly, y_train)\n",
    "        \n",
    "        # make predictions on the test set\n",
    "        test_data = np.linspace(0,10,100)\n",
    "        y_test_data = linreg.predict(poly.fit_transform(test_data.reshape(len(test_data),1)))\n",
    "        result[i, :] = y_test_data\n",
    "\n",
    "    \n",
    "    return result\n",
    "\n",
    "\n",
    "answer_one()"
   ]
  },
  {
   "cell_type": "code",
   "execution_count": 5,
   "metadata": {},
   "outputs": [
    {
     "data": {
      "image/png": "[encoded data removed]",
      "text/plain": [
       "<Figure size 720x360 with 1 Axes>"
      ]
     },
     "metadata": {
      "needs_background": "light"
     },
     "output_type": "display_data"
    }
   ],
   "source": [
    "# feel free to use the function plot_one() to replicate the figure \n",
    "# from the prompt once you have completed question one\n",
    "def plot_one(degree_predictions):\n",
    "    import matplotlib.pyplot as plt\n",
    "    %matplotlib inline\n",
    "    plt.figure(figsize=(10,5))\n",
    "    plt.plot(X_train, y_train, 'o', label='training data', markersize=10)\n",
    "    plt.plot(X_test, y_test, 'o', label='test data', markersize=10)\n",
    "    for i,degree in enumerate([1,3,6,9]):\n",
    "        plt.plot(np.linspace(0,10,100), degree_predictions[i], alpha=0.8, lw=2, label='degree={}'.format(degree))\n",
    "    plt.ylim(-1,3.5)\n",
    "    plt.legend(loc=4)\n",
    "\n",
    "plot_one(answer_one())"
   ]
  },
  {
   "cell_type": "markdown",
   "metadata": {},
   "source": [
    "### Question 2 (20 points)\n",
    "\n",
    "Write a function that fits a polynomial LinearRegression model on the training data `X_train` for degrees 0 through 9. For each model compute the $R^2$ (coefficient of determination) regression score on the training data as well as the the test data, and return both of these arrays in a tuple.\n",
    "\n",
    "Based on the $R^2$ scores above (degree levels 0 through 9), what degree level corresponds to a model that is underfitting? What degree level corresponds to a model that is overfitting? What choice of degree level would provide a model with good generalization performance on this dataset? Note: there may be multiple correct solutions to this question.\n",
    "\n",
    "(Hint: you can plot the r2_train and r2_test vs the degree to investigate underfitting/overfitting.)\n",
    "\n",
    "*This function should return one tuple of numpy arrays `(r2_train, r2_test, Underfitting, Good_Generalization, Overfitting)`, where both `r2_train` and `r2_test` should have shape `(10,)`, and `Underfitting, Good_Generalization, Overfitting` should be three lists of int partitioning 0-9.*"
   ]
  },
  {
   "cell_type": "code",
   "execution_count": 8,
   "metadata": {},
   "outputs": [
    {
     "data": {
      "text/plain": [
       "(array([0.        , 0.26439755, 0.32742358, 0.37220126, 0.86736045,\n",
       "        0.87144785, 0.91335744, 0.93652344, 0.93840679, 0.94068506]),\n",
       " array([-0.01063969,  0.54040848,  0.64266551,  0.76381091,  0.65922591,\n",
       "         0.75737122,  0.77130324,  0.38779952,  0.81042065, -0.59293955]),\n",
       " [0, 1, 2, 3],\n",
       " [4, 5, 6],\n",
       " [7, 8, 9])"
      ]
     },
     "execution_count": 8,
     "metadata": {},
     "output_type": "execute_result"
    },
    {
     "data": {
      "image/png": "[encoded data removed]",
      "text/plain": [
       "<Figure size 432x288 with 1 Axes>"
      ]
     },
     "metadata": {
      "needs_background": "light"
     },
     "output_type": "display_data"
    }
   ],
   "source": [
    "def answer_two():\n",
    "    from sklearn.linear_model import LinearRegression\n",
    "    from sklearn.preprocessing import PolynomialFeatures\n",
    "    from sklearn.metrics.regression import r2_score\n",
    "    import matplotlib.pyplot as plt\n",
    "\n",
    "    r2_test = np.zeros(10)\n",
    "    r2_train = np.zeros(10)\n",
    "    \n",
    "    for i in range(10):\n",
    "        \n",
    "        #create the polynomial features\n",
    "        poly = PolynomialFeatures(degree = i)\n",
    "        X_train_poly = poly.fit_transform(X_train.reshape(len(X_train),1))\n",
    "        linreg = LinearRegression().fit(X_train_poly, y_train)\n",
    "        y_train_pred = linreg.predict(X_train_poly)\n",
    "        r2_train[i] = r2_score(y_train, y_train_pred)\n",
    "\n",
    "        X_test_poly = poly.fit_transform(X_test.reshape(len(X_test),1))\n",
    "        y_test_pred = linreg.predict(X_test_poly)\n",
    "        r2_test[i] = r2_score(y_test, y_test_pred)\n",
    "\n",
    "        \n",
    "    %matplotlib inline\n",
    "    degrees = np.arange(0, 10)\n",
    "    plt.figure()\n",
    "    plt.plot(degrees, r2_train,'b', degrees, r2_test, 'r')\n",
    "    \n",
    "    Underfitting, Good_Generalization, Overfitting = ([0, 1, 2, 3], [4, 5, 6], [7, 8, 9])\n",
    "        \n",
    "    return (r2_train, r2_test, Underfitting, Good_Generalization, Overfitting)\n",
    "\n",
    "answer_two()"
   ]
  },
  {
   "cell_type": "markdown",
   "metadata": {},
   "source": [
    "### Question 3 (20 points)\n",
    "\n",
    "This question asks you to explore the relationship between the distribution of cross validation scores vs the data size. \n",
    "\n",
    "Please use a for loop to repeat the following steps with `n` varying from `[100, 500, 1000, 5000, 10000]`:\n",
    "1. Generate synthetic data `(X_F1, y_F1)` using `make_friedman1` with `n_samples=n, n_features=7, random_state=0`;\n",
    "2. Create a `LinearRegression` model\n",
    "3. Apply `cross_val_score` to the model and generated data and set `cv=3`\n",
    "4. Calculate the mean and std of the returned `cv_scores`\n",
    "\n",
    "Store the mean and std of the `cv_scores` in lists `cv_scores_mean` and `cv_scores_std` respectively. Do you see the std increasing or decreasing? And why? \n",
    "\n",
    "*This function should return a tuple of two lists `(cv_scores_mean, cv_scores_std)`, where both of them should have length 5.*\n"
   ]
  },
  {
   "cell_type": "code",
   "execution_count": 31,
   "metadata": {},
   "outputs": [
    {
     "data": {
      "text/plain": [
       "([0.6018299574452853,\n",
       "  0.6992854711790496,\n",
       "  0.7581670531880474,\n",
       "  0.7601055644422733,\n",
       "  0.7630386688459642],\n",
       " [0.12627903848248154,\n",
       "  0.024423844566455365,\n",
       "  0.032066624338011815,\n",
       "  0.008641386533462664,\n",
       "  0.007846567081112229])"
      ]
     },
     "execution_count": 31,
     "metadata": {},
     "output_type": "execute_result"
    }
   ],
   "source": [
    "def answer_three():\n",
    "    from sklearn.datasets import make_friedman1\n",
    "    from sklearn.linear_model import LinearRegression\n",
    "    from sklearn.model_selection import cross_val_score\n",
    "    \n",
    "    cv_scores_mean = []\n",
    "    cv_scores_std = []\n",
    "    \n",
    "    for n in [100, 500, 1000, 5000, 10000]:\n",
    "        X_F1, y_F1 = make_friedman1(n_samples=n, n_features=7, random_state=0)\n",
    "        linreg = LinearRegression()\n",
    "        cv_scores = cross_val_score(linreg, X_F1, y_F1, cv=3)\n",
    "        \n",
    "        cv_scores_mean.append(np.mean(cv_scores))\n",
    "        cv_scores_std.append(np.std(cv_scores))\n",
    "        \n",
    "    return (cv_scores_mean, cv_scores_std)\n",
    "\n",
    "answer_three()"
   ]
  },
  {
   "cell_type": "markdown",
   "metadata": {},
   "source": [
    "### Question 4 (20 points)\n",
    "\n",
    "From Question 1 and 2 we have seen that we need to be careful when selecting the `degree` parameter of the polynomial feature expansion. These kind of parameters are ususally called \"hyper-parameter\" in machine learning. In this question, we will see how to make a good choice of the hyper-parameter(s). And when the dataset is small, cross validation can help us make a more reliable choice. \n",
    "\n"
   ]
  },
  {
   "cell_type": "code",
   "execution_count": 35,
   "metadata": {},
   "outputs": [
    {
     "name": "stdout",
     "output_type": "stream",
     "text": [
      "One split:\tDegree 3, R-squared score 0.239\n",
      "Cross Valid:\tDegree 2, R-squared score 0.751\n"
     ]
    },
    {
     "data": {
      "text/plain": [
       "(3, 0.23923464045751308, 2, 0.7508642440811819)"
      ]
     },
     "execution_count": 35,
     "metadata": {},
     "output_type": "execute_result"
    }
   ],
   "source": [
    "def answer_four():\n",
    "    import numpy as np\n",
    "    from sklearn.datasets import make_friedman3\n",
    "    from sklearn.model_selection import train_test_split\n",
    "    from sklearn.linear_model import LinearRegression\n",
    "    from sklearn.preprocessing import PolynomialFeatures\n",
    "    from sklearn.model_selection import cross_val_score\n",
    "\n",
    "    # generate dta\n",
    "    X_F3_train, y_F3_train = make_friedman3(n_samples=100, random_state=0)  # training set\n",
    "    X_F3_test, y_F3_test = make_friedman3(n_samples=500, random_state=1)  # hold-out test set\n",
    "\n",
    "    r2_cv = []\n",
    "    r2_one_split = []\n",
    "    for d in range(6):\n",
    "        \n",
    "        #Your code: transform `X_F3_train` to `X_F3_train_trans` using `PolynomialFeatures` with `degree=d`\n",
    "            \n",
    "        poly = PolynomialFeatures(degree=d)\n",
    "        X_F3_train_trans = poly.fit_transform(X_F3_train)\n",
    "\n",
    "        # train and evaluate with one split\n",
    "        X_train, X_valid, y_train, y_valid = train_test_split(X_F3_train_trans, y_F3_train, random_state=0, test_size=0.1)\n",
    "        linreg = LinearRegression().fit(X_train, y_train)\n",
    "        r2_one_split.append(linreg.score(X_valid, y_valid))\n",
    "\n",
    "        # train and evaluate with cross validation\n",
    "        linreg = LinearRegression()\n",
    "        #Your code: get `cv_scores` by applying `cross_val_score` on `linreg, X_F3_train_trans, y_F3_train` with `cv=10`\n",
    "            \n",
    "        cv_scores = cross_val_score(linreg, X_F3_train_trans, y_F3_train, cv=10)\n",
    "            \n",
    "        r2_cv.append(np.mean(cv_scores))\n",
    "\n",
    "    # evalutate on the hold-out test set\n",
    "    d_one_split = np.argmax(r2_one_split)  # get the best degree on the one-split validation set\n",
    "    poly = PolynomialFeatures(degree=d_one_split)\n",
    "    X_F3_train_trans = poly.fit_transform(X_F3_train)\n",
    "    linreg = LinearRegression().fit(X_F3_train_trans, y_F3_train)\n",
    "    X_F3_test_trans = poly.transform(X_F3_test)\n",
    "    score_one_split = linreg.score(X_F3_test_trans, y_F3_test)\n",
    "    print('One split:\\tDegree {}, R-squared score {:.3f}'\n",
    "         .format(d_one_split, linreg.score(X_F3_test_trans, y_F3_test)))\n",
    "\n",
    "    d_cv = np.argmax(r2_cv)  # get the best degree on the cross validation set\n",
    "    poly = PolynomialFeatures(degree=d_cv)\n",
    "    X_F3_train_trans = poly.fit_transform(X_F3_train)\n",
    "    linreg = LinearRegression().fit(X_F3_train_trans, y_F3_train)\n",
    "    X_F3_test_trans = poly.transform(X_F3_test)\n",
    "    score_cv = linreg.score(X_F3_test_trans, y_F3_test)\n",
    "    print('Cross Valid:\\tDegree {}, R-squared score {:.3f}'\n",
    "         .format(d_cv, linreg.score(X_F3_test_trans, y_F3_test)))\n",
    "    \n",
    "    return (d_one_split, score_one_split, d_cv, score_cv)\n",
    "\n",
    "answer_four()"
   ]
  },
  {
   "cell_type": "code",
   "execution_count": null,
   "metadata": {},
   "outputs": [],
   "source": []
  }
 ],
 "metadata": {
  "anaconda-cloud": {},
  "colab": {
   "collapsed_sections": [],
   "name": "si670f19_lab_2_ans.ipynb",
   "provenance": [],
   "version": "0.3.2"
  },
  "kernelspec": {
   "display_name": "Python 3",
   "language": "python",
   "name": "python3"
  },
  "language_info": {
   "codemirror_mode": {
    "name": "ipython",
    "version": 3
   },
   "file_extension": ".py",
   "mimetype": "text/x-python",
   "name": "python",
   "nbconvert_exporter": "python",
   "pygments_lexer": "ipython3",
   "version": "3.7.1"
  }
 },
 "nbformat": 4,
 "nbformat_minor": 1
}
